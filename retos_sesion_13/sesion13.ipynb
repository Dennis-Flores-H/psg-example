{
 "cells": [
  {
   "cell_type": "code",
   "execution_count": 1,
   "metadata": {},
   "outputs": [
    {
     "name": "stdout",
     "output_type": "stream",
     "text": [
      "range(0, 5)\n",
      "range(1, 10, 2)\n",
      "range(10, 0, -1)\n",
      "[0, 1, 2, 3, 4]\n"
     ]
    }
   ],
   "source": [
    "print(range(5))\n",
    "\n",
    "print(range(1, 10, 2))\n",
    "\n",
    "print(range(10, 0, -1))\n",
    "\n",
    "print(list(range(5)))"
   ]
  },
  {
   "cell_type": "code",
   "execution_count": 2,
   "metadata": {},
   "outputs": [
    {
     "name": "stdout",
     "output_type": "stream",
     "text": [
      "0\n",
      "1\n",
      "2\n",
      "3\n",
      "4\n",
      "4\n"
     ]
    }
   ],
   "source": [
    "for i in range(5):\n",
    "    print(i)\n",
    "print(i)"
   ]
  },
  {
   "cell_type": "code",
   "execution_count": 3,
   "metadata": {},
   "outputs": [
    {
     "name": "stdout",
     "output_type": "stream",
     "text": [
      "Inicio\n",
      "0\n",
      "1\n",
      "2\n",
      "3\n",
      "4\n",
      "Fin\n"
     ]
    }
   ],
   "source": [
    "print (\"Inicio\")\n",
    "for i in range(5): # rango (0,5,1)\n",
    "    print(i)\n",
    "print (\"Fin\")"
   ]
  },
  {
   "cell_type": "code",
   "execution_count": 4,
   "metadata": {},
   "outputs": [
    {
     "name": "stdout",
     "output_type": "stream",
     "text": [
      "Ejemplo 1\n",
      "25\n"
     ]
    }
   ],
   "source": [
    "print (\"Ejemplo 1\")\n",
    "suma = 0\n",
    "for i in range(1, 11, 2): # 1, 3, 5, 7, 9\n",
    "    suma = suma + i #suma += i\n",
    "print(suma)"
   ]
  },
  {
   "cell_type": "code",
   "execution_count": 5,
   "metadata": {},
   "outputs": [
    {
     "name": "stdout",
     "output_type": "stream",
     "text": [
      "Ejemplo 2\n",
      "     *\n",
      "    ***\n",
      "   *****\n",
      "  *******\n",
      " *********\n",
      "***********\n"
     ]
    }
   ],
   "source": [
    "print (\"Ejemplo 2\")\n",
    "for i in range(0, 6):\n",
    "    print(\" \"*(5-i) + \"*\"*i*2+\"*\")"
   ]
  },
  {
   "cell_type": "code",
   "execution_count": 6,
   "metadata": {},
   "outputs": [
    {
     "name": "stdout",
     "output_type": "stream",
     "text": [
      "Ejemplo 3\n",
      "1 4 9 16 25 36 49 64 81 100 "
     ]
    }
   ],
   "source": [
    "print (\"Ejemplo 3\")\n",
    "for i in range(1, 11):\n",
    "    print(i**2, end=\" \")"
   ]
  },
  {
   "cell_type": "code",
   "execution_count": 7,
   "metadata": {},
   "outputs": [
    {
     "name": "stdout",
     "output_type": "stream",
     "text": [
      "Ejemplo 4\n",
      "[0, 2, 4, 6, 8, 10]\n"
     ]
    }
   ],
   "source": [
    "print (\"Ejemplo 4\")\n",
    "pares = []\n",
    "for i in range(0, 11, 2):\n",
    "    pares.append(i)\n",
    "print(pares)"
   ]
  },
  {
   "cell_type": "code",
   "execution_count": 8,
   "metadata": {},
   "outputs": [
    {
     "name": "stdout",
     "output_type": "stream",
     "text": [
      "Ejercicio 1\n",
      "1 8 27 64 125 216 343 512 729 1000 "
     ]
    }
   ],
   "source": [
    "print (\"Ejercicio 1\")\n",
    "for i in range(1, 11):\n",
    "    print(i**3, end=\" \")"
   ]
  },
  {
   "cell_type": "code",
   "execution_count": 9,
   "metadata": {},
   "outputs": [
    {
     "name": "stdout",
     "output_type": "stream",
     "text": [
      "🍎\n",
      "🍌\n",
      "🍇\n",
      "🍉\n"
     ]
    }
   ],
   "source": [
    "for fruta in ['🍎','🍌','🍇','🍉']:\n",
    "    print(fruta)"
   ]
  },
  {
   "cell_type": "code",
   "execution_count": 10,
   "metadata": {},
   "outputs": [
    {
     "name": "stdout",
     "output_type": "stream",
     "text": [
      "Ejemplo 5\n",
      "🎄\n",
      "🎆\n",
      "🎁\n",
      "🎊\n",
      "✨\n",
      "🎉\n"
     ]
    }
   ],
   "source": [
    "print (\"Ejemplo 5\")\n",
    "fiesta = ['🎄','🎆','🎁','🎊','✨','🎉']\n",
    "for objeto in fiesta:\n",
    "    print(objeto)\n"
   ]
  },
  {
   "cell_type": "code",
   "execution_count": 11,
   "metadata": {},
   "outputs": [
    {
     "name": "stdout",
     "output_type": "stream",
     "text": [
      "Ejemplo 6\n",
      "🍅, 🍇, 🍈, 🍉, 🍊, "
     ]
    }
   ],
   "source": [
    "print (\"Ejemplo 6\")\n",
    "frutas =  ('🍅','🍇','🍈','🍉','🍊')\n",
    "for fruta in frutas:\n",
    "    print(fruta, end=\", \")"
   ]
  },
  {
   "cell_type": "code",
   "execution_count": 12,
   "metadata": {},
   "outputs": [
    {
     "name": "stdout",
     "output_type": "stream",
     "text": [
      "Ejemplo 7\n",
      "🍅 Tomate\n",
      "🍇 Uva\n",
      "🍈 Melón\n",
      "🍉 Sandía\n",
      "🍊 Naranja\n"
     ]
    }
   ],
   "source": [
    "print (\"Ejemplo 7\")\n",
    "frutas = {'🍅':'Tomate','🍇':'Uva','🍈':'Melón','🍉':'Sandía','🍊':'Naranja'}\n",
    "for clave in frutas:\n",
    "    print(clave, frutas[clave])"
   ]
  },
  {
   "cell_type": "code",
   "execution_count": 13,
   "metadata": {},
   "outputs": [
    {
     "name": "stdout",
     "output_type": "stream",
     "text": [
      "Ejemplo 8\n",
      "〇->🐣->🐥->🐤->🐔->🍗->"
     ]
    }
   ],
   "source": [
    "print (\"Ejemplo 8\")\n",
    "ciclo_vida = '〇🐣🐥🐤🐔🍗'\n",
    "for etapa in ciclo_vida:\n",
    "    print(etapa, end=\"->\")\n"
   ]
  },
  {
   "cell_type": "code",
   "execution_count": 14,
   "metadata": {},
   "outputs": [
    {
     "name": "stdout",
     "output_type": "stream",
     "text": [
      "Ejemplo 9\n",
      "🐶\n",
      "🐱\n",
      "🐰\n",
      "🐭\n"
     ]
    }
   ],
   "source": [
    "print (\"Ejemplo 9\")\n",
    "animales = ['🐶','🐱','🐰','🐭']\n",
    "for animal in animales:\n",
    "    print(animal)"
   ]
  },
  {
   "cell_type": "code",
   "execution_count": 15,
   "metadata": {},
   "outputs": [
    {
     "name": "stdout",
     "output_type": "stream",
     "text": [
      "Ejemplo 10\n",
      "🐶\n",
      "🐱\n",
      "🐰\n",
      "🐭\n"
     ]
    }
   ],
   "source": [
    "print (\"Ejemplo 10\")\n",
    "animales = ['🐶','🐱','🐰','🐭']\n",
    "for i in range(len(animales)):\n",
    "    print(animales[i])"
   ]
  },
  {
   "cell_type": "code",
   "execution_count": 16,
   "metadata": {},
   "outputs": [
    {
     "name": "stdout",
     "output_type": "stream",
     "text": [
      "Ejemplo 11\n",
      "0 🐶 🐶\n",
      "1 🐱 🐱\n",
      "2 🐰 🐰\n",
      "3 🐭 🐭\n"
     ]
    }
   ],
   "source": [
    "print (\"Ejemplo 11\")\n",
    "animales = ['🐶','🐱','🐰','🐭']\n",
    "for i, animal in enumerate(animales):\n",
    "    print(i, animal, animales[i])"
   ]
  },
  {
   "cell_type": "code",
   "execution_count": 17,
   "metadata": {},
   "outputs": [
    {
     "name": "stdout",
     "output_type": "stream",
     "text": [
      "Ejercicio 2\n",
      "⚽\n",
      "🏀🏀\n",
      "⚾⚾⚾\n",
      "🎱🎱🎱🎱\n"
     ]
    }
   ],
   "source": [
    "print (\"Ejercicio 2\")\n",
    "esferas = '⚽🏀⚾🎱'\n",
    "for i, esfera in enumerate(esferas):\n",
    "    print(esfera*(i+1))"
   ]
  },
  {
   "cell_type": "code",
   "execution_count": 18,
   "metadata": {},
   "outputs": [
    {
     "name": "stdout",
     "output_type": "stream",
     "text": [
      "Ejemplo 12\n",
      "0\n",
      "1\n",
      "2\n",
      "3\n",
      "4\n",
      "5\n"
     ]
    }
   ],
   "source": [
    "print (\"Ejemplo 12\")\n",
    "i = 0\n",
    "while i <= 5:\n",
    "    print(i)\n",
    "    i += 1"
   ]
  },
  {
   "cell_type": "code",
   "execution_count": 19,
   "metadata": {},
   "outputs": [
    {
     "name": "stdout",
     "output_type": "stream",
     "text": [
      "Ejemplo 13\n",
      "10\n"
     ]
    }
   ],
   "source": [
    "print (\"Ejemplo 13\")\n",
    "suma = 0\n",
    "numero = int(input(\"Ingrese un número: \"))\n",
    "while numero != 0:\n",
    "    suma += numero\n",
    "    numero = int(input(\"Ingrese un número: \"))\n",
    "print(suma)"
   ]
  },
  {
   "cell_type": "code",
   "execution_count": 20,
   "metadata": {},
   "outputs": [
    {
     "name": "stdout",
     "output_type": "stream",
     "text": [
      "Ejercicio 3\n",
      "5\n",
      "4\n",
      "3\n",
      "2\n",
      "1\n",
      "0\n"
     ]
    }
   ],
   "source": [
    "print (\"Ejercicio 3\")\n",
    "numero = int(input(\"Ingrese un número: \"))\n",
    "while numero >= 0:\n",
    "    print(numero)\n",
    "    numero -= 1"
   ]
  },
  {
   "cell_type": "code",
   "execution_count": 21,
   "metadata": {},
   "outputs": [
    {
     "name": "stdout",
     "output_type": "stream",
     "text": [
      "Ejemplo 14\n",
      "🍎\n",
      "🍌\n",
      "🍇\n",
      "🍉\n",
      "🍊\n",
      "Fin\n"
     ]
    }
   ],
   "source": [
    "frutas = ['🍎','🍌','🍇','🍉','🍊','🐛','🍓','🍍']\n",
    "print (\"Ejemplo 14\")\n",
    "for fruta in frutas:\n",
    "    if fruta == '🐛':\n",
    "        break\n",
    "    print(fruta)\n",
    "print (\"Fin\")"
   ]
  },
  {
   "cell_type": "code",
   "execution_count": 22,
   "metadata": {},
   "outputs": [
    {
     "name": "stdout",
     "output_type": "stream",
     "text": [
      "Ejemplo 14\n",
      "🍎\n",
      "🍌\n",
      "🍇\n",
      "🍉\n",
      "🍊\n",
      "🐛\n",
      "Fin\n"
     ]
    }
   ],
   "source": [
    "frutas = ['🍎','🍌','🍇','🍉','🍊','🐛','🍓','🍍']\n",
    "print (\"Ejemplo 14\")\n",
    "i = \"\"\n",
    "while i != '🐛':\n",
    "    i = frutas.pop(0)\n",
    "    print(i)\n",
    "print (\"Fin\")"
   ]
  },
  {
   "cell_type": "code",
   "execution_count": null,
   "metadata": {},
   "outputs": [],
   "source": [
    "print (\"Ejemplo 15\")\n",
    "contador = 0\n",
    "while True:\n",
    "    print(contador)\n",
    "    contador += 1"
   ]
  },
  {
   "cell_type": "code",
   "execution_count": 1,
   "metadata": {},
   "outputs": [
    {
     "name": "stdout",
     "output_type": "stream",
     "text": [
      "Ejemplo 16\n",
      "PYTHON\n",
      "LA PAZ\n",
      "Fin\n"
     ]
    }
   ],
   "source": [
    "print (\"Ejemplo 16\")\n",
    "while True:\n",
    "    texto = input(\"Ingrese un texto: \")\n",
    "    if texto == 'salir':\n",
    "        break\n",
    "    print(texto.upper())\n",
    "print (\"Fin\")"
   ]
  },
  {
   "cell_type": "code",
   "execution_count": 4,
   "metadata": {},
   "outputs": [
    {
     "name": "stdout",
     "output_type": "stream",
     "text": [
      "Ejercicio 4\n",
      "Par\n",
      "Impar\n"
     ]
    }
   ],
   "source": [
    "print (\"Ejercicio 4\")\n",
    "while True:\n",
    "    numero = int(input(\"Ingrese un número: \"))\n",
    "    if numero == 0:\n",
    "        break\n",
    "    print (\"Par\" if numero % 2 == 0 else \"Impar\")"
   ]
  },
  {
   "cell_type": "code",
   "execution_count": 5,
   "metadata": {},
   "outputs": [
    {
     "name": "stdout",
     "output_type": "stream",
     "text": [
      "Ejemplo 17\n",
      "[2, 4, 6, 8, 10]\n"
     ]
    }
   ],
   "source": [
    "print (\"Ejemplo 17\")\n",
    "pares = [i for i in range(2, 11, 2)]\n",
    "print(pares)"
   ]
  },
  {
   "cell_type": "code",
   "execution_count": 6,
   "metadata": {},
   "outputs": [
    {
     "name": "stdout",
     "output_type": "stream",
     "text": [
      "Ejemplo 18\n",
      "[2, 4, 6, 8, 10]\n"
     ]
    }
   ],
   "source": [
    "print (\"Ejemplo 18\")\n",
    "pares = [i for i in range(2, 11) if i % 2 == 0]\n",
    "print(pares)"
   ]
  },
  {
   "cell_type": "code",
   "execution_count": 7,
   "metadata": {},
   "outputs": [
    {
     "name": "stdout",
     "output_type": "stream",
     "text": [
      "Ejemplo 19\n",
      "{2: 'Par', 3: 'Impar', 4: 'Par', 5: 'Impar', 6: 'Par', 7: 'Impar', 8: 'Par', 9: 'Impar', 10: 'Par'}\n"
     ]
    }
   ],
   "source": [
    "print (\"Ejemplo 19\")\n",
    "pares = {i: \"Par\" if i % 2 == 0 else \"Impar\" for i in range(2, 11)}\n",
    "print(pares)"
   ]
  },
  {
   "cell_type": "code",
   "execution_count": 8,
   "metadata": {},
   "outputs": [
    {
     "name": "stdout",
     "output_type": "stream",
     "text": [
      "Ejercicio 5\n",
      "(1, 3, 5, 7, 9)\n"
     ]
    }
   ],
   "source": [
    "print (\"Ejercicio 5\")\n",
    "impares = tuple(i for i in range(1, 11) if i % 2 != 0)\n",
    "print(impares)"
   ]
  },
  {
   "cell_type": "code",
   "execution_count": 9,
   "metadata": {},
   "outputs": [
    {
     "name": "stdout",
     "output_type": "stream",
     "text": [
      "Ejemplo 20\n",
      "Tabla del 1\n",
      "1 x 1 = 1\n",
      "1 x 2 = 2\n",
      "1 x 3 = 3\n",
      "1 x 4 = 4\n",
      "1 x 5 = 5\n",
      "1 x 6 = 6\n",
      "1 x 7 = 7\n",
      "1 x 8 = 8\n",
      "1 x 9 = 9\n",
      "1 x 10 = 10\n",
      "Tabla del 2\n",
      "2 x 1 = 2\n",
      "2 x 2 = 4\n",
      "2 x 3 = 6\n",
      "2 x 4 = 8\n",
      "2 x 5 = 10\n",
      "2 x 6 = 12\n",
      "2 x 7 = 14\n",
      "2 x 8 = 16\n",
      "2 x 9 = 18\n",
      "2 x 10 = 20\n"
     ]
    }
   ],
   "source": [
    "print (\"Ejemplo 20\")\n",
    "for i in range(1, 3):\n",
    "    print(f\"Tabla del {i}\")\n",
    "    for j in range(1, 11):\n",
    "        print(f\"{i} x {j} = {i*j}\")"
   ]
  },
  {
   "cell_type": "code",
   "execution_count": 10,
   "metadata": {},
   "outputs": [
    {
     "name": "stdout",
     "output_type": "stream",
     "text": [
      "Ejemplo 21\n",
      "Tabla del 5\n",
      "5 x 1 = 5\n",
      "5 x 2 = 10\n",
      "5 x 3 = 15\n",
      "5 x 4 = 20\n",
      "5 x 5 = 25\n",
      "5 x 6 = 30\n",
      "5 x 7 = 35\n",
      "5 x 8 = 40\n",
      "5 x 9 = 45\n",
      "5 x 10 = 50\n",
      "Fin\n"
     ]
    }
   ],
   "source": [
    "print (\"Ejemplo 21\")\n",
    "while True:\n",
    "    numero = int(input(\"Ingrese un número: \"))\n",
    "    if numero == 0:\n",
    "        break\n",
    "    print(f\"Tabla del {numero}\")\n",
    "    for i in range(1, 11):\n",
    "        print(f\"{numero} x {i} = {numero*i}\")\n",
    "print (\"Fin\")"
   ]
  },
  {
   "cell_type": "code",
   "execution_count": 11,
   "metadata": {},
   "outputs": [
    {
     "name": "stdout",
     "output_type": "stream",
     "text": [
      "1 2 3 \n",
      "4 5 6 \n",
      "7 8 9 \n"
     ]
    }
   ],
   "source": [
    "matriz = [[1, 2, 3], [4, 5, 6], [7, 8, 9]]\n",
    "for fila in matriz:\n",
    "    for columna in fila:\n",
    "        print(columna, end=\" \")\n",
    "    print()"
   ]
  },
  {
   "cell_type": "code",
   "execution_count": 12,
   "metadata": {},
   "outputs": [
    {
     "name": "stdout",
     "output_type": "stream",
     "text": [
      "Ejemplo 22\n",
      "X X X X X \n",
      "X X X X X \n",
      "X X X X X \n",
      "X X X X X \n",
      "X X X X X \n",
      "[['X', 'X', 'X', 'X', 'X'], ['X', 'X', 'X', 'X', 'X'], ['X', 'X', 'X', 'X', 'X'], ['X', 'X', 'X', 'X', 'X'], ['X', 'X', 'X', 'X', 'X']]\n"
     ]
    }
   ],
   "source": [
    "print (\"Ejemplo 22\")\n",
    "n = int(input(\"Ingrese un número: \"))\n",
    "matriz = [['X' for i in range(n)] for j in range(n)]\n",
    "for fila in matriz:\n",
    "    for columna in fila:\n",
    "        print(columna, end=\" \")\n",
    "    print()\n",
    "print (matriz)"
   ]
  },
  {
   "cell_type": "code",
   "execution_count": 13,
   "metadata": {},
   "outputs": [
    {
     "name": "stdout",
     "output_type": "stream",
     "text": [
      "Ejercicio 6\n",
      "(0, 0) (0, 1) (0, 2) (0, 3) \n",
      "(1, 0) (1, 1) (1, 2) (1, 3) \n",
      "(2, 0) (2, 1) (2, 2) (2, 3) \n",
      "(3, 0) (3, 1) (3, 2) (3, 3) \n",
      "[[(0, 0), (0, 1), (0, 2), (0, 3)], [(1, 0), (1, 1), (1, 2), (1, 3)], [(2, 0), (2, 1), (2, 2), (2, 3)], [(3, 0), (3, 1), (3, 2), (3, 3)]]\n"
     ]
    }
   ],
   "source": [
    "print (\"Ejercicio 6\")\n",
    "n = int(input(\"Ingrese un número: \"))\n",
    "matriz = [[(j, i) for i in range(n)] for j in range(n)]\n",
    "for fila in matriz:\n",
    "    for columna in fila:\n",
    "        print(columna, end=\" \")\n",
    "    print()\n",
    "print (matriz)"
   ]
  }
 ],
 "metadata": {
  "kernelspec": {
   "display_name": "Python 3.8.10 32-bit",
   "language": "python",
   "name": "python3"
  },
  "language_info": {
   "codemirror_mode": {
    "name": "ipython",
    "version": 3
   },
   "file_extension": ".py",
   "mimetype": "text/x-python",
   "name": "python",
   "nbconvert_exporter": "python",
   "pygments_lexer": "ipython3",
   "version": "3.8.10"
  },
  "orig_nbformat": 4,
  "vscode": {
   "interpreter": {
    "hash": "0b99d75163ec0d0dcf7370962151e4487d97c84d3efd6476cab6bca89c341c8e"
   }
  }
 },
 "nbformat": 4,
 "nbformat_minor": 2
}
