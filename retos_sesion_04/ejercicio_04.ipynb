{
 "cells": [
  {
   "cell_type": "markdown",
   "metadata": {},
   "source": [
    "# **<p align=\"center\">AVENTURA EN LA SELVA</p>**\n",
    "\n",
    "## a) Descripción:\n",
    "> \"Aventura en la Selva\" es un juego de estrategia para 2 jugadores. Cada jugador controla un explorador que se \n",
    "> adentra en una densa selva, enfrentando desafíos, recolectando tesoros y evitando trampas. El objetivo es ser el primero en > recolectar tres tesoros y llegar a la salida de la selva.\n"
   ]
  },
  {
   "cell_type": "markdown",
   "metadata": {},
   "source": [
    "## b) Reglas:\n",
    "1. **Inicio del juego:**\n",
    "> * Cada jugador coloca su explorador en una de las esquinas del tablero.\n",
    "\n",
    "2. **Turnos:**\n",
    "> * Los jugadores se turnan para mover a sus exploradores.\n",
    "> * En cada turno, un jugador puede mover su explorador una casilla hacia arriba, abajo, izquierda o derecha.\n",
    "\n",
    "3. **Recolección de tesoros:**\n",
    "> * Los tesoros están distribuidos aleatoriamente en el tablero.\n",
    "> * Un jugador debe aterrizar en una casilla con un tesoro para recogerlo.\n",
    "> * El objetivo es recoger tres tesoros.\n",
    "\n",
    "4. **Obstáculos y trampas:**\n",
    "> * Hay obstáculos en el tablero que los jugadores deben esquivar.\n",
    "> * No se puede pasar por las casillas con obstáculos.\n",
    "> * Existen trampas ocultas que hacen retroceder al explorador una casilla si se cae en ellas.\n",
    "\n",
    "5. **Cartas de aventura:**\n",
    "> * En cada turno, un jugador puede sacar una carta de aventura que puede contener beneficios (como moverse dos casillas en lugar de una) o desafíos (como perder un turno).\n",
    "\n",
    "6. **Trampas ocultas:**\n",
    "> * Las trampas están ocultas y no se revelan hasta que un jugador cae en una casilla con trampa. Si un jugador se mueve a una casilla con una trampa, se revela la trampa y el jugador debe retroceder una casilla.\n",
    "\n",
    "7. **Ganar el juego:**\n",
    "> * El primer jugador en recolectar tres tesoros y llegar a la salida de la selva gana el juego."
   ]
  },
  {
   "cell_type": "code",
   "execution_count": 5,
   "metadata": {},
   "outputs": [
    {
     "name": "stdout",
     "output_type": "stream",
     "text": [
      "c) Tablero en Codigo de Aventura en la Selva:\n",
      "  0 1 2 3 4 5 6 7 8 9\n",
      "0 (*) . . . X . . . $ .\n",
      "1  .  . X . . . X . . .\n",
      "2  .  $ . . . X . . . X\n",
      "3  .  . . . $ . . X . .\n",
      "4  X  . . X . . . . . .\n",
      "5  .  . X . . . $ . T .\n",
      "6  .  X . . . . . X . .\n",
      "7  .  . . X . . . . $ .\n",
      "8  $  . . . . X . . . .\n",
      "9  .  . . . . . X . . (*)\n"
     ]
    }
   ],
   "source": [
    "print(\"c) Tablero en Codigo de Aventura en la Selva:\")\n",
    "print(\"  0 1 2 3 4 5 6 7 8 9\")\n",
    "print(\"0 (*) . . . X . . . $ .\")\n",
    "print(\"1  .  . X . . . X . . .\")\n",
    "print(\"2  .  $ . . . X . . . X\")\n",
    "print(\"3  .  . . . $ . . X . .\")\n",
    "print(\"4  X  . . X . . . . . .\")\n",
    "print(\"5  .  . X . . . $ . T .\")\n",
    "print(\"6  .  X . . . . . X . .\")\n",
    "print(\"7  .  . . X . . . . $ .\")\n",
    "print(\"8  $  . . . . X . . . .\")\n",
    "print(\"9  .  . . . . . X . . (*)\")"
   ]
  },
  {
   "cell_type": "markdown",
   "metadata": {},
   "source": [
    "## d) Descripción de las Piezas\n",
    "1. **Explorador:**\n",
    "> - Cada jugador controla un explorador.\n",
    "> - En Código: Representado por un símbolo especial (*).\n",
    "> - En un Tablero real: Se muestra en el diseño de las piezas\n",
    "> - Función: Moverse por el tablero para recoger tesoros y evitar trampas y obstáculos.\n",
    "\n",
    "2. **Tesoros:**\n",
    "> - Son Objetos que los exploradores deben recoger.\n",
    "> - En Código: Representados por el símbolo $.\n",
    "> - En un Tablero real: Se muestra en el diseño de las piezas.\n",
    "> - Función: Los jugadores deben recoger tres tesoros para ganar el juego.\n",
    "\n",
    "3. **Obstáculos:**\n",
    "> - Son elementos que bloquean el camino de los exploradores.\n",
    "> - En Código: Representados por el símbolo X.\n",
    "> - En un Tablero real: Podrían ser rocas, árboles u otros elementos que bloqueen el camino.\n",
    "> - Función: No se puede pasar por las casillas con obstáculos.\n",
    "\n",
    "1. **Trampas:**\n",
    "> - Son peligros ocultos en la selva.\n",
    "> - En Código: Representadas por el símbolo T (ocultas y se revelan solo cuando un jugador cae en ellas).\n",
    "> - Tablero real: Se muestra en el diseño de las piezas.\n",
    "> - Función: Hace retroceder al explorador una casilla y se revela cuando un jugador cae en ella. Al igual que las bombas en el juego Buscaminas, las trampas permanecen ocultas hasta que un jugador cae en una casilla con una trampa."
   ]
  },
  {
   "cell_type": "code",
   "execution_count": 6,
   "metadata": {},
   "outputs": [
    {
     "name": "stdout",
     "output_type": "stream",
     "text": [
      "e) Diseño de las Piezas\n",
      "\n",
      "Explorador: \n",
      "         ____\n",
      "       _(____)_\n",
      "___ooO_(_o__o_)_Ooo___\n",
      "\n",
      "Tesoros: \n",
      "   ____ \n",
      "  /    \\\n",
      " /______\\\n",
      " |      |\n",
      " |  $$  |\n",
      " |______|\n",
      "\n",
      "Obstaculos: Ej. Arbol\n",
      "       *  \n",
      "      ***  \n",
      "     *****  \n",
      "    *******  \n",
      "   *********  \n",
      "  ***********  \n",
      "      | |  \n",
      "\n",
      "Trampas\n",
      "     |\n",
      "   __|__\n",
      "  /     \\\n",
      " |   T   |\n",
      "  \\_____/\n"
     ]
    }
   ],
   "source": [
    "print(\"e) Diseño de las Piezas\")\n",
    "print(\"\\nExplorador: \")\n",
    "print(\"         ____\")\n",
    "print(\"       _(____)_\")\n",
    "print(\"___ooO_(_o__o_)_Ooo___\")\n",
    "\n",
    "print(\"\\nTesoros: \")\n",
    "print(\"   ____ \")\n",
    "print(\"  /    \\\\\")\n",
    "print(\" /______\\\\\")\n",
    "print(\" |      |\")\n",
    "print(\" |  $$  |\")\n",
    "print(\" |______|\")\n",
    "\n",
    "print(\"\\nObstaculos: Ej. Arbol\")\n",
    "print(\"       *  \")\n",
    "print(\"      ***  \")\n",
    "print(\"     *****  \")\n",
    "print(\"    *******  \")\n",
    "print(\"   *********  \")\n",
    "print(\"  ***********  \")\n",
    "print(\"      | |  \")\n",
    "\n",
    "print(\"\\nTrampas\")\n",
    "print(\"     |\")\n",
    "print(\"   __|__\")\n",
    "print(\"  /     \\\\\")\n",
    "print(\" |   T   |\")\n",
    "print(\"  \\\\_____/\")"
   ]
  }
 ],
 "metadata": {
  "kernelspec": {
   "display_name": "Python 3.8.10 32-bit",
   "language": "python",
   "name": "python3"
  },
  "language_info": {
   "codemirror_mode": {
    "name": "ipython",
    "version": 3
   },
   "file_extension": ".py",
   "mimetype": "text/x-python",
   "name": "python",
   "nbconvert_exporter": "python",
   "pygments_lexer": "ipython3",
   "version": "3.8.10"
  },
  "orig_nbformat": 4,
  "vscode": {
   "interpreter": {
    "hash": "0b99d75163ec0d0dcf7370962151e4487d97c84d3efd6476cab6bca89c341c8e"
   }
  }
 },
 "nbformat": 4,
 "nbformat_minor": 2
}
