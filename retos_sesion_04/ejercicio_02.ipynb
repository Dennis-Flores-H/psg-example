{
 "cells": [
  {
   "cell_type": "markdown",
   "metadata": {},
   "source": [
    "## Crea un archivo \"ejercicio_02.ipynb\", añade un texto markdown con la descripción del ejercicio \"2\" y crea una imagen utilizando símbolos y prints \n",
    "## **Símbolos:** * - , () \\ | / _ \" ' = C"
   ]
  },
  {
   "cell_type": "code",
   "execution_count": 12,
   "metadata": {},
   "outputs": [
    {
     "name": "stdout",
     "output_type": "stream",
     "text": [
      "                       __\n",
      "                     .'  '.\n",
      "                 _.-'/  |  \\\n",
      "    ,        _.-\"  ,|  /    `-.\n",
      "    |\\    .-\"       `--\"\"-.__.'=====================-,\n",
      "    \\ '-'`        .___.--._)=========================|\n",
      "     \\            .'      |                          |\n",
      "      |     /,_.-'        |        FIRULAIS          |\n",
      "    _/   _.'(             |                          |\n",
      "   /  ,-' \\  \\            |                          |\n",
      "   \\  \\    `-'            |                          |\n",
      "    `-'                   '--------------------------'\n"
     ]
    }
   ],
   "source": [
    "print(\"                       __\")\n",
    "print(\"                     .'  '.\")\n",
    "print(\"                 _.-'/  |  \\\\\")\n",
    "print(\"    ,        _.-\\\"  ,|  /    `-.\")\n",
    "print(\"    |\\\\    .-\\\"       `--\\\"\\\"-.__.'=====================-,\")\n",
    "print(\"    \\\\ '-'`        .___.--._)=========================|\")\n",
    "print(\"     \\\\            .'      |                          |\")\n",
    "print(\"      |     /,_.-'        |        FIRULAIS          |\")\n",
    "print(\"    _/   _.'(             |                          |\")\n",
    "print(\"   /  ,-' \\\\  \\\\            |                          |\")\n",
    "print(\"   \\\\  \\\\    `-'            |                          |\")\n",
    "print(\"    `-'                   '--------------------------'\")\n"
   ]
  },
  {
   "cell_type": "markdown",
   "metadata": {},
   "source": []
  }
 ],
 "metadata": {
  "kernelspec": {
   "display_name": "Python 3.8.10 32-bit",
   "language": "python",
   "name": "python3"
  },
  "language_info": {
   "codemirror_mode": {
    "name": "ipython",
    "version": 3
   },
   "file_extension": ".py",
   "mimetype": "text/x-python",
   "name": "python",
   "nbconvert_exporter": "python",
   "pygments_lexer": "ipython3",
   "version": "3.8.10"
  },
  "orig_nbformat": 4,
  "vscode": {
   "interpreter": {
    "hash": "0b99d75163ec0d0dcf7370962151e4487d97c84d3efd6476cab6bca89c341c8e"
   }
  }
 },
 "nbformat": 4,
 "nbformat_minor": 2
}
